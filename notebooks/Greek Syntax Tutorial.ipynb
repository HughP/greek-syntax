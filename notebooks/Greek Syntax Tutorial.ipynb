{
 "cells": [
  {
   "cell_type": "markdown",
   "metadata": {
    "toc": true
   },
   "source": [
    "<h1>Table of Contents<span class=\"tocSkip\"></span></h1>\n",
    "<div class=\"toc\" style=\"margin-top: 1em;\"><ul class=\"toc-item\"><li><span><a href=\"#Tutorial:-The-Greek-Syntax-Package\" data-toc-modified-id=\"Tutorial:-The-Greek-Syntax-Package-1\"><span class=\"toc-item-num\">1&nbsp;&nbsp;</span>Tutorial: The Greek Syntax Package</a></span><ul class=\"toc-item\"><li><span><a href=\"#Queries-using-Lowfat-and-Jupyter-Notebooks\" data-toc-modified-id=\"Queries-using-Lowfat-and-Jupyter-Notebooks-1.1\"><span class=\"toc-item-num\">1.1&nbsp;&nbsp;</span>Queries using Lowfat and Jupyter Notebooks</a></span></li><li><span><a href=\"#Installing-and-Running-the-Greek-Syntax-Package-with-Docker\" data-toc-modified-id=\"Installing-and-Running-the-Greek-Syntax-Package-with-Docker-1.2\"><span class=\"toc-item-num\">1.2&nbsp;&nbsp;</span>Installing and Running the Greek Syntax Package with Docker</a></span></li><li><span><a href=\"#Opening-the-Database\" data-toc-modified-id=\"Opening-the-Database-1.3\"><span class=\"toc-item-num\">1.3&nbsp;&nbsp;</span>Opening the Database</a></span></li><li><span><a href=\"#Don't-Try-to-Return-the-Whole-Database\" data-toc-modified-id=\"Don't-Try-to-Return-the-Whole-Database-1.4\"><span class=\"toc-item-num\">1.4&nbsp;&nbsp;</span>Don't Try to Return the Whole Database</a></span></li><li><span><a href=\"#References:-Book,-Chapter,-Verse,-Word\" data-toc-modified-id=\"References:-Book,-Chapter,-Verse,-Word-1.5\"><span class=\"toc-item-num\">1.5&nbsp;&nbsp;</span>References: Book, Chapter, Verse, Word</a></span><ul class=\"toc-item\"><li><span><a href=\"#The-milestone()-function\" data-toc-modified-id=\"The-milestone()-function-1.5.1\"><span class=\"toc-item-num\">1.5.1&nbsp;&nbsp;</span>The milestone() function</a></span></li></ul></li><li><span><a href=\"#Displaying-Results\" data-toc-modified-id=\"Displaying-Results-1.6\"><span class=\"toc-item-num\">1.6&nbsp;&nbsp;</span>Displaying Results</a></span></li><li><span><a href=\"#Words,-Lemmas,-and-Morphology\" data-toc-modified-id=\"Words,-Lemmas,-and-Morphology-1.7\"><span class=\"toc-item-num\">1.7&nbsp;&nbsp;</span>Words, Lemmas, and Morphology</a></span></li><li><span><a href=\"#Syntax\" data-toc-modified-id=\"Syntax-1.8\"><span class=\"toc-item-num\">1.8&nbsp;&nbsp;</span>Syntax</a></span></li><li><span><a href=\"#Next-Steps\" data-toc-modified-id=\"Next-Steps-1.9\"><span class=\"toc-item-num\">1.9&nbsp;&nbsp;</span>Next Steps</a></span></li></ul></li></ul></div>"
   ]
  },
  {
   "cell_type": "markdown",
   "metadata": {},
   "source": [
    "# Tutorial: The Greek Syntax Package \n",
    "\n",
    "## Queries using Lowfat and Jupyter Notebooks"
   ]
  },
  {
   "cell_type": "markdown",
   "metadata": {},
   "source": [
    "<blockquote>**Important**:  If you are reading this in GitHub the results are not shown.  Please view it using this link: <a href=\"http://jonathanrobie.biblicalhumanities.org/assets/greeksyntax-tutorial.html\">Tutorial: Greek Syntax Queries using Lowfat and Jupyter Notebooks</a>.</blockquote>"
   ]
  },
  {
   "cell_type": "markdown",
   "metadata": {},
   "source": [
    "This tutorial illustrates some of the kinds of queries that can be done using the <a href=\"https://github.com/biblicalhumanities/greek-new-testament/tree/master/syntax-trees/nestle1904-lowfat\">Nestle 1904 Lowfat Syntax Trees</a> and <a href=\"https://jupyter.org/\">Jupyter notebooks</a>. It is aimed at someone who knows Greek fairly well but may not have experience with query languages or programming.  It uses the [Greek Syntax Package](https://github.com/biblicalhumanities/greek-syntax/), written to simplify the task of writing queries for this environment, which also provides a database in a Docker image.\n",
    "\n",
    "Jupyter notebooks allow headings, text, and query results to appear together.  This document is a Jupyter notebook.  If you have properly installed the software, you can run the queries in this notebook and see the results, or modify the queries to see different results.\n"
   ]
  },
  {
   "cell_type": "markdown",
   "metadata": {},
   "source": [
    "## Installing and Running the Greek Syntax Package with Docker\n",
    "\n",
    "To run this notebook live, you must first install the Greek Syntax Package and run it with Docker. Follow the instructions here:\n",
    "\n",
    "[The Greek Syntax Jupyter Notebook Environment](https://github.com/biblicalhumanities/greek-syntax/blob/master/README.md)\n"
   ]
  },
  {
   "cell_type": "markdown",
   "metadata": {},
   "source": [
    "## Opening the Database\n",
    "\n",
    "The following code imports the functions we need and opens the database:"
   ]
  },
  {
   "cell_type": "code",
   "execution_count": null,
   "metadata": {},
   "outputs": [],
   "source": [
    "from greeksyntax.lowfat import *\n",
    "\n",
    "q = lowfat(\"nestle1904lowfat\")"
   ]
  },
  {
   "cell_type": "markdown",
   "metadata": {},
   "source": [
    "Let's make sure that we have successfully opened the database using a simple query:"
   ]
  },
  {
   "cell_type": "code",
   "execution_count": null,
   "metadata": {},
   "outputs": [],
   "source": [
    "q.xquery(\"count(//book)\")"
   ]
  },
  {
   "cell_type": "markdown",
   "metadata": {},
   "source": [
    "If the query works, you are up and running.  Let's get on with the tutorial."
   ]
  },
  {
   "cell_type": "markdown",
   "metadata": {},
   "source": [
    "## Don't Try to Return the Whole Database"
   ]
  },
  {
   "cell_type": "markdown",
   "metadata": {},
   "source": [
    "You should be aware that there are limits on the amount of data Jupyter allows a query to return.  Queries can return large results, even entire books, but there are limits.  If your query returns too much data, you will see the following error:"
   ]
  },
  {
   "cell_type": "code",
   "execution_count": null,
   "metadata": {},
   "outputs": [],
   "source": [
    "# This query attempts to return every word in the Greek New Testament.  Jupyter returns an error.\n",
    "q.xquery(\"//w\")"
   ]
  },
  {
   "cell_type": "markdown",
   "metadata": {},
   "source": [
    "The solution is to write a more specific query.  You will see how to do that in the following sections."
   ]
  },
  {
   "cell_type": "markdown",
   "metadata": {},
   "source": [
    "## References: Book, Chapter, Verse, Word\n",
    "\n",
    "Let's start by looking up specific texts using references. \n",
    "\n",
    "The following query returns Mathew 5:6.  If you hover a mouse over a word in the query results, it displays morphological information about the word and a contextualized English gloss:"
   ]
  },
  {
   "cell_type": "code",
   "execution_count": null,
   "metadata": {},
   "outputs": [],
   "source": [
    "q.find(milestone(\"Matt.5.6\"))"
   ]
  },
  {
   "cell_type": "markdown",
   "metadata": {},
   "source": [
    "The Greek Syntax Package uses OSIS references, extended to support individual words.  The following forms of references are supported:\n",
    "\n",
    "- Book: \"Matt\"\n",
    "- Chapter: \"Matt.5\"\n",
    "- Verse: \"Matt.5.6\"\n",
    "- Word: \"Matt.5.6!10\"\n",
    "\n",
    "Try modifying the query below to refer to other texts, then execute the cell to see the result."
   ]
  },
  {
   "cell_type": "code",
   "execution_count": null,
   "metadata": {},
   "outputs": [],
   "source": [
    "q.find(milestone(\"Matt.5.6!10\"))"
   ]
  },
  {
   "cell_type": "markdown",
   "metadata": {},
   "source": [
    "### The milestone() function\n",
    "\n",
    "The `milestone()` function creates a query that searches for data using an OSIS reference.  This function saves you the trouble of thinking about the exact structure of the XML every time you want to look up a reference.\n",
    "\n",
    "For books, chapters, and verses, it returns sentences.  Try executing the following query to see the query it creates."
   ]
  },
  {
   "cell_type": "code",
   "execution_count": null,
   "metadata": {},
   "outputs": [],
   "source": [
    "milestone(\"Matt.5.6\")"
   ]
  },
  {
   "cell_type": "markdown",
   "metadata": {},
   "source": [
    "XQuery and XPath are compositional languages.  The `find()` method takes a query that returns text containg words in the lowfat format and returns the corresponding text in a readable format."
   ]
  },
  {
   "cell_type": "code",
   "execution_count": null,
   "metadata": {},
   "outputs": [],
   "source": [
    "q.find(milestone(\"Matt.5.6\"))"
   ]
  },
  {
   "cell_type": "markdown",
   "metadata": {},
   "source": [
    "While convenient and readable, the `find()` method does not show you the XML that corresponds to the query.  You can see the raw results of the query using the `xquery()` method.  Note the `<milestone/>` element near the beginning. Try this with other references."
   ]
  },
  {
   "cell_type": "code",
   "execution_count": null,
   "metadata": {},
   "outputs": [],
   "source": [
    "q.xquery(milestone(\"Matt.5.6\"))"
   ]
  },
  {
   "cell_type": "markdown",
   "metadata": {},
   "source": [
    "Words do not contain milestones, the reference for a word is an attribute, e.g. \n",
    "\n",
    "```\n",
    "<w role=\"p\" class=\"adj\" osisId=\"Matt.5.6!1\" n=\"400050060010010\" lemma=\"μακάριος\" normalized=\"μακάριοι\" strong=\"3107\" number=\"plural\" gender=\"masculine\" case=\"nominative\" head=\"true\" gloss=\"Blessed [are]\">μακάριοι</w>\n",
    "```\n",
    "\n",
    "Let's take a look at how the `milestone()` function works for words."
   ]
  },
  {
   "cell_type": "code",
   "execution_count": null,
   "metadata": {},
   "outputs": [],
   "source": [
    "milestone(\"Matt.5.6!1\")"
   ]
  },
  {
   "cell_type": "code",
   "execution_count": null,
   "metadata": {},
   "outputs": [],
   "source": [
    "q.find(milestone(\"Matt.5.6!1\"))"
   ]
  },
  {
   "cell_type": "code",
   "execution_count": null,
   "metadata": {},
   "outputs": [],
   "source": [
    "q.xquery(milestone(\"Matt.5.6!1\"))"
   ]
  },
  {
   "cell_type": "markdown",
   "metadata": {},
   "source": [
    "You can use the `interlinear()` function to show a table with contextualized glosses and morphology for a given word or verse:"
   ]
  },
  {
   "cell_type": "markdown",
   "metadata": {},
   "source": [
    "## Displaying Results\n",
    "\n",
    "The following methods show results in different formats:\n",
    "\n",
    "- `find()` - display a result as readable text.\n",
    "- `highlight()` - display a result as readable text, highlighting 'hits' (this is discussed in the next section)\n",
    "- `xquery()` - display a result as raw XML\n",
    "- `interlinear()` - display the words in a result as a tabular interlinear\n",
    "- `boxwood()` - display the syntactic structure of a result\n",
    "\n",
    "Let's try using the same query with each of these displays except highlight, which we discuss in the next section.  Here is the query we will use:"
   ]
  },
  {
   "cell_type": "code",
   "execution_count": null,
   "metadata": {},
   "outputs": [],
   "source": [
    "milestone(\"Matt.5.6\")"
   ]
  },
  {
   "cell_type": "markdown",
   "metadata": {},
   "source": [
    "To avoid typing that in each query, let's assign it to a variable:"
   ]
  },
  {
   "cell_type": "code",
   "execution_count": null,
   "metadata": {
    "collapsed": true
   },
   "outputs": [],
   "source": [
    "ref = milestone(\"Matt.5.6\")"
   ]
  },
  {
   "cell_type": "markdown",
   "metadata": {},
   "source": [
    "Now let's show the results of this query in various formats."
   ]
  },
  {
   "cell_type": "code",
   "execution_count": null,
   "metadata": {},
   "outputs": [],
   "source": [
    "q.find(ref)"
   ]
  },
  {
   "cell_type": "code",
   "execution_count": null,
   "metadata": {},
   "outputs": [],
   "source": [
    "q.boxwood(ref)"
   ]
  },
  {
   "cell_type": "code",
   "execution_count": null,
   "metadata": {},
   "outputs": [],
   "source": [
    "q.xquery(ref)"
   ]
  },
  {
   "cell_type": "markdown",
   "metadata": {},
   "source": [
    "## Words, Lemmas, and Morphology"
   ]
  },
  {
   "cell_type": "markdown",
   "metadata": {},
   "source": [
    "Many queries are based on the characteristics of individual words.  Let's look at the structure of a word in our representation.  First, let's look up an individual word the way we did previously:"
   ]
  },
  {
   "cell_type": "code",
   "execution_count": null,
   "metadata": {},
   "outputs": [],
   "source": [
    "q.find(milestone(\"Matt.5.6!1\"))"
   ]
  },
  {
   "cell_type": "markdown",
   "metadata": {},
   "source": [
    "In this tutorial, most results are presented as readable text, but words have a rich structure that contains a great deal of information.  Let's use the `xquery()` function to see the raw structure of that same word:"
   ]
  },
  {
   "cell_type": "code",
   "execution_count": null,
   "metadata": {},
   "outputs": [],
   "source": [
    "q.xquery(milestone(\"Matt.5.6!1\"))"
   ]
  },
  {
   "cell_type": "markdown",
   "metadata": {},
   "source": [
    "We can use this information to look for specific characteristics of words.  Let's take a look at the individual parts of this:\n",
    "\n",
    "- `<w>` - Each word is wrapped in a `w` element.  You can count the words in the Greek New Testament with this query: `count(//w)`.\n",
    "- `xmlns:xi=\"http://www.w3.org/2001/XInclude\"` is just noise for our purposes.  Ignore it.  It comes from including individual books into a master file using XInclude.\n",
    "- `class=\"verb\"` - this word is a verb.  You can count the verbs in the Greek New Testament with this query: `count(//w[@class='verb'])`, which counts the `w` elements that have `class` attributes with the value `verb`.\n",
    "- `role` - the grammatical role of the word within its clause, in this case `p` means `predicate`. Not all words have roles - sometimes the role is given to a group of words rather than individual words, and some words like conjunctions do not have clausal roles.  You can count individual words that occur as predicates using this query: `count(//w[@role='p'])`.\n",
    "- `osisId` - the milestone for the individual word. You can find this word using the following query: `//w[@osisId='Matt.5.6!1']`.\n",
    "- `n` - an integer that can be used to sort words into sentence order.\n",
    "- `lemma` - the dictionary form of the word.  You can look up other instances of this word with this query: `//w[@lemma='μακάριος']`.\n",
    "- `normalized` - a \"normalized\" form of the word that ignores changes in accent due to phonological context such as position in the sentence or the presence of clitics.  You can look up other instances of this normalized form with this query: `//w[@normalized='μακάριοι']`.\n",
    "- `strong` - a Strong's number.\n",
    "- `number`, `gender`, `case`, etc - morphology of the word. You can look up other adjectives that are plural, masculine, and nominative using this query: `//w[@class='adj' and @number='plural' and @gender='masculine' and @case='nominative']`.\n",
    "- `gloss` - an English gloss, contextualized.\n",
    "\n",
    "For more documentation on this format, see [the Lowfat documentation](https://github.com/biblicalhumanities/greek-new-testament/tree/master/syntax-trees/nestle1904-lowfat).\n"
   ]
  },
  {
   "cell_type": "markdown",
   "metadata": {},
   "source": [
    "You can play with the queries shown above by creating new cells with the + button in the menu bar and putting your conditions in a string like this:"
   ]
  },
  {
   "cell_type": "code",
   "execution_count": null,
   "metadata": {
    "collapsed": true
   },
   "outputs": [],
   "source": [
    "query = \"//w[@class='adj' and @number='plural' and @gender='masculine' and @case='nominative']\""
   ]
  },
  {
   "cell_type": "markdown",
   "metadata": {},
   "source": [
    "We can search for all instances by calling `q.find()` like this:\n",
    "\n",
    "`q.find(query)`\n",
    "\n",
    "To search for instances in a given scope, we can use the `milestone()` function to specify the scope like this:\n",
    "\n",
    "`q.find(milestone(\"Matt.5\") + query)`\n",
    "\n",
    "Let's look for instances of this in Matthew 5."
   ]
  },
  {
   "cell_type": "code",
   "execution_count": null,
   "metadata": {},
   "outputs": [],
   "source": [
    "q.find(milestone(\"Matt.5\") + query)"
   ]
  },
  {
   "cell_type": "markdown",
   "metadata": {},
   "source": [
    "The `highlight()` function gives more useful output for queries like this, showing the result highlighted in context of the original sentence.  Let's use `highlight()` instead of `find()`, using the same query."
   ]
  },
  {
   "cell_type": "code",
   "execution_count": null,
   "metadata": {
    "collapsed": true
   },
   "outputs": [],
   "source": [
    "q.highlight(milestone(\"Matt.5\") + query)"
   ]
  },
  {
   "cell_type": "markdown",
   "metadata": {},
   "source": [
    "A similar function, `sentence()`, shows the matching item after the sentence. This can be useful for posting to some online forums that strip formatting."
   ]
  },
  {
   "cell_type": "code",
   "execution_count": null,
   "metadata": {
    "collapsed": true
   },
   "outputs": [],
   "source": [
    "q.sentence(milestone(\"Matt.5\") + query)"
   ]
  },
  {
   "cell_type": "markdown",
   "metadata": {},
   "source": [
    "We can search for results in a set of scopes by specifying each one in the same cell. Let's look for instances of our query in Luke 1 and Acts 1:"
   ]
  },
  {
   "cell_type": "code",
   "execution_count": null,
   "metadata": {
    "collapsed": true
   },
   "outputs": [],
   "source": [
    "q.highlight(milestone(\"Luke.1\") + query)\n",
    "q.highlight(milestone(\"Acts.1\") + query)"
   ]
  },
  {
   "cell_type": "markdown",
   "metadata": {},
   "source": [
    "## Syntax\n",
    "\n",
    "Syntax is largely about exploring relationships within a clause. The `@role` attribute identifies these relationships.  Clauses can contain other clauses and phrases in complex recursive structures.\n",
    "\n",
    "Groups of words are found in `<wg>` elements (\"word group\").  A clause is identified by the attribute `class='cl'`.  Like words, word groups can have `role` attributes that identify their role in a clause. \n",
    "\n",
    "Let's look for clauses that function as objects of other clauses.  "
   ]
  },
  {
   "cell_type": "code",
   "execution_count": null,
   "metadata": {
    "collapsed": true
   },
   "outputs": [],
   "source": [
    "q.highlight(milestone(\"Matt.1\") + \"//wg[@class='cl' and @role='o']\")"
   ]
  },
  {
   "cell_type": "markdown",
   "metadata": {},
   "source": [
    "Queries can combine conditions on individual words and conditions on word groups.  Let's modify that query to show only clauses that contain participles and function as objects of other clauses.  We will use `role='v'` rather than `class='verb` so that we find only clauses in which the participle governs the clause."
   ]
  },
  {
   "cell_type": "code",
   "execution_count": null,
   "metadata": {
    "collapsed": true
   },
   "outputs": [],
   "source": [
    "q.highlight(milestone(\"Acts\") + \"//wg[@class='cl' and @role='o' and w[@role='v' and @mood='participle']]\")"
   ]
  },
  {
   "cell_type": "markdown",
   "metadata": {},
   "source": [
    "Word groups can also represent phrases of various kinds (see [this documentation](https://github.com/biblicalhumanities/greek-new-testament/tree/master/syntax-trees/nestle1904-lowfat)).\n",
    "\n",
    "Let's look for prepositional phrases that contain the word πίστις:"
   ]
  },
  {
   "cell_type": "code",
   "execution_count": null,
   "metadata": {
    "collapsed": true
   },
   "outputs": [],
   "source": [
    "q.highlight(milestone(\"Acts\") + \"//wg[@class='pp' and .//w[@lemma='πίστις']]\")"
   ]
  },
  {
   "cell_type": "markdown",
   "metadata": {},
   "source": [
    "And let's narrow that to prepostitional phrases where the preposition is ἐν.  But let's also broaden the scope, looking for all instances in the Greek New Testament instead of specifying a milestone."
   ]
  },
  {
   "cell_type": "code",
   "execution_count": null,
   "metadata": {
    "collapsed": true
   },
   "outputs": [],
   "source": [
    "q.highlight(\"//wg[@class='pp' and w[@lemma='ἐν'] and .//w[@lemma='πίστις']]\")"
   ]
  },
  {
   "cell_type": "markdown",
   "metadata": {},
   "source": [
    "Now let's narrow these results further, showing only phrases where πίστις occurs in the same word group as ἐν or the word group immediately below it. "
   ]
  },
  {
   "cell_type": "code",
   "execution_count": null,
   "metadata": {
    "collapsed": true
   },
   "outputs": [],
   "source": [
    "q.highlight(\"//wg[@class='pp' and w[@lemma='ἐν'] and (w, wg/w)[@lemma='πίστις']]\")"
   ]
  },
  {
   "cell_type": "markdown",
   "metadata": {},
   "source": [
    "## Next Steps\n",
    "\n",
    "This is only an introductory tutorial showing a small number of queries.  It is meant to whet your appetite, to inspire you to think of queries that will teach you about aspects of biblical Greek you are interested in.\n",
    "\n",
    "I plan to follow this up with more Jupyter notebooks, illustrating specific questions I would like to explore.  I also expect to add more resources to the `greeksyntax` package.  If you want to follow this work, I encourage you to [follow my blog](http://jonathanrobie.biblicalhumanities.org/). "
   ]
  },
  {
   "cell_type": "code",
   "execution_count": null,
   "metadata": {
    "collapsed": true
   },
   "outputs": [],
   "source": []
  }
 ],
 "metadata": {
  "_draft": {
   "nbviewer_url": "https://gist.github.com/4d8f302a286c78068e2c4c77c4a4c6e5"
  },
  "gist": {
   "data": {
    "description": "greeksyntax-tutorial.ipynb",
    "public": false
   },
   "id": "4d8f302a286c78068e2c4c77c4a4c6e5"
  },
  "kernelspec": {
   "display_name": "Python 3",
   "language": "python",
   "name": "python3"
  },
  "language_info": {
   "codemirror_mode": {
    "name": "ipython",
    "version": 3
   },
   "file_extension": ".py",
   "mimetype": "text/x-python",
   "name": "python",
   "nbconvert_exporter": "python",
   "pygments_lexer": "ipython3",
   "version": "3.6.3"
  },
  "toc": {
   "nav_menu": {},
   "number_sections": true,
   "sideBar": true,
   "skip_h1_title": false,
   "toc_cell": true,
   "toc_position": {},
   "toc_section_display": "block",
   "toc_window_display": true
  }
 },
 "nbformat": 4,
 "nbformat_minor": 2
}
